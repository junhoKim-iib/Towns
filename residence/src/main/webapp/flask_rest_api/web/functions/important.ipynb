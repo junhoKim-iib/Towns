{
 "cells": [
  {
   "cell_type": "code",
   "execution_count": 2,
   "metadata": {},
   "outputs": [],
   "source": [
    "import pandas as pd\n",
    "from tqdm import tqdm"
   ]
  },
  {
   "cell_type": "code",
   "execution_count": 54,
   "metadata": {},
   "outputs": [],
   "source": [
    "df = pd.read_excel(\"temp3.xlsx\",index_col=0)"
   ]
  },
  {
   "cell_type": "code",
   "execution_count": 55,
   "metadata": {},
   "outputs": [],
   "source": [
    "final_df = pd.read_excel(\"final2.xlsx\",index_col=0)"
   ]
  },
  {
   "cell_type": "code",
   "execution_count": 6,
   "metadata": {},
   "outputs": [],
   "source": [
    "temp1 = df.head()\n",
    "temp2 = final_df.head()"
   ]
  },
  {
   "cell_type": "code",
   "execution_count": 56,
   "metadata": {},
   "outputs": [],
   "source": [
    "test = df['convenientFacility'].str.contains(\"파출소|지구대|치안센터\")\n"
   ]
  },
  {
   "cell_type": "code",
   "execution_count": 57,
   "metadata": {},
   "outputs": [
    {
     "data": {
      "text/plain": [
       "0        False\n",
       "1        False\n",
       "2          NaN\n",
       "3        False\n",
       "4        False\n",
       "         ...  \n",
       "18128      NaN\n",
       "18129    False\n",
       "18130    False\n",
       "18131    False\n",
       "18132      NaN\n",
       "Name: convenientFacility, Length: 18133, dtype: object"
      ]
     },
     "execution_count": 57,
     "metadata": {},
     "output_type": "execute_result"
    }
   ],
   "source": [
    "test"
   ]
  },
  {
   "cell_type": "code",
   "execution_count": 59,
   "metadata": {},
   "outputs": [],
   "source": [
    "df = df.dropna(how='all', subset=[\"doroJuso\"])"
   ]
  },
  {
   "cell_type": "code",
   "execution_count": 47,
   "metadata": {},
   "outputs": [
    {
     "name": "stdout",
     "output_type": "stream",
     "text": [
      "<class 'str'>\n",
      "<class 'str'>\n",
      "<class 'str'>\n",
      "<class 'str'>\n",
      "<class 'str'>\n"
     ]
    }
   ],
   "source": [
    "for index, row in temp1.iterrows():\n",
    "    test = temp1.loc[index,'doroJuso']\n",
    "    print(type(test))"
   ]
  },
  {
   "cell_type": "code",
   "execution_count": 52,
   "metadata": {},
   "outputs": [
    {
     "data": {
      "text/plain": [
       "1"
      ]
     },
     "execution_count": 52,
     "metadata": {},
     "output_type": "execute_result"
    }
   ],
   "source": [
    "final_df.loc[1,'doroJuso']"
   ]
  },
  {
   "cell_type": "code",
   "execution_count": 53,
   "metadata": {},
   "outputs": [
    {
     "data": {
      "text/plain": [
       "0         서울특별시 강남구 논현로20길 22\n",
       "1                           1\n",
       "2           서울특별시 강남구 개포로 405\n",
       "3        서울특별시 강남구 개포로109길 69\n",
       "4           서울특별시 강남구 언주로 105\n",
       "                 ...         \n",
       "29213        충청북도 충주시 신촌2길 29\n",
       "29214      충청북도 충주시 호암중앙1로 47\n",
       "29215       충청북도 충주시 원호암5길 32\n",
       "29216       충청북도 충주시 호암중앙2로 5\n",
       "29217      충청북도 충주시 호암수청1로 29\n",
       "Name: doroJuso, Length: 29218, dtype: object"
      ]
     },
     "execution_count": 53,
     "metadata": {},
     "output_type": "execute_result"
    }
   ],
   "source": [
    "final_df['doroJuso']"
   ]
  },
  {
   "cell_type": "code",
   "execution_count": null,
   "metadata": {},
   "outputs": [],
   "source": [
    "managementOffice\tseniorCenter\tchildCare\tlibrary\tcommunityFacilities\tplayGround\trestFacilities\tkindergarten\tcommunitySpace\tbicycleShed\tpublicOffice\thospital\tdepartmentStore\tmall\tpark\telementarySchool\tmiddleSchool\thighSchool\tuniversity\n"
   ]
  },
  {
   "cell_type": "code",
   "execution_count": 73,
   "metadata": {},
   "outputs": [
    {
     "name": "stderr",
     "output_type": "stream",
     "text": [
      "  0%|          | 1/29218 [00:00<22:53, 21.28it/s]"
     ]
    },
    {
     "name": "stdout",
     "output_type": "stream",
     "text": [
      "서울특별시 강남구 논현로20길 22\n",
      "서울특별시 강남구 개포로 264\n",
      "success\n",
      "Int64Index([17096], dtype='int64')\n",
      "1\n",
      "관리사무소, 노인정, 보육시설, 주민공동시설, 어린이놀이터, 유치원, 커뮤니티공간, 자전거보관소\n",
      "<class 'pandas.core.frame.DataFrame'>\n",
      "       Unnamed: 0     bjdCode   kaptCode   kaptName  \\\n",
      "17096       17096  1168010300  A10024564  개포래미안포레스트   \n",
      "\n",
      "                           kaptAddr           doroJuso  \\\n",
      "17096  서울특별시 강남구 개포동 1282 개포래미안포레스트  서울특별시 강남구 개포로 264   \n",
      "\n",
      "                                         welfareFacility kaptdWtimebus  \\\n",
      "17096  관리사무소, 노인정, 보육시설, 주민공동시설, 어린이놀이터, 유치원, 커뮤니티공간,...          5분이내   \n",
      "\n",
      "      subwayLine subwayStation  ... bicycleShed publicOffice hospital  \\\n",
      "17096        3호선           매봉역  ...           1            0        0   \n",
      "\n",
      "       departmentStore  mall  park  elementarySchool  middleSchool  \\\n",
      "17096                0     0     1                 1             0   \n",
      "\n",
      "       highSchool  university  \n",
      "17096           0           0  \n",
      "\n",
      "[1 rows x 34 columns]\n"
     ]
    },
    {
     "name": "stderr",
     "output_type": "stream",
     "text": [
      "\n"
     ]
    },
    {
     "ename": "ValueError",
     "evalue": "Incompatible indexer with Series",
     "output_type": "error",
     "traceback": [
      "\u001b[1;31m---------------------------------------------------------------------------\u001b[0m",
      "\u001b[1;31mValueError\u001b[0m                                Traceback (most recent call last)",
      "\u001b[1;32m~\\AppData\\Local\\Temp/ipykernel_29024/651166976.py\u001b[0m in \u001b[0;36m<module>\u001b[1;34m\u001b[0m\n\u001b[0;32m     11\u001b[0m         \u001b[0mprint\u001b[0m\u001b[1;33m(\u001b[0m\u001b[0mtype\u001b[0m\u001b[1;33m(\u001b[0m\u001b[0mcheck_df\u001b[0m\u001b[1;33m)\u001b[0m\u001b[1;33m)\u001b[0m\u001b[1;33m\u001b[0m\u001b[1;33m\u001b[0m\u001b[0m\n\u001b[0;32m     12\u001b[0m         \u001b[0mprint\u001b[0m\u001b[1;33m(\u001b[0m\u001b[0mcheck_df\u001b[0m\u001b[1;33m)\u001b[0m\u001b[1;33m\u001b[0m\u001b[1;33m\u001b[0m\u001b[0m\n\u001b[1;32m---> 13\u001b[1;33m         \u001b[0mfinal_df\u001b[0m\u001b[1;33m.\u001b[0m\u001b[0mloc\u001b[0m\u001b[1;33m[\u001b[0m\u001b[0mindex\u001b[0m\u001b[1;33m,\u001b[0m\u001b[1;34m\"welfareFacility\"\u001b[0m\u001b[1;33m]\u001b[0m \u001b[1;33m=\u001b[0m \u001b[0mcheck_df\u001b[0m\u001b[1;33m[\u001b[0m\u001b[1;34m\"welfareFacility\"\u001b[0m\u001b[1;33m]\u001b[0m\u001b[1;33m\u001b[0m\u001b[1;33m\u001b[0m\u001b[0m\n\u001b[0m\u001b[0;32m     14\u001b[0m         \u001b[0mfinal_df\u001b[0m\u001b[1;33m.\u001b[0m\u001b[0mloc\u001b[0m\u001b[1;33m[\u001b[0m\u001b[0mindex\u001b[0m\u001b[1;33m,\u001b[0m\u001b[1;34m\"kaptdWtimebus\"\u001b[0m\u001b[1;33m]\u001b[0m \u001b[1;33m=\u001b[0m \u001b[0mcheck_df\u001b[0m\u001b[1;33m[\u001b[0m\u001b[1;34m\"kaptdWtimebus\"\u001b[0m\u001b[1;33m]\u001b[0m\u001b[1;33m\u001b[0m\u001b[1;33m\u001b[0m\u001b[0m\n\u001b[0;32m     15\u001b[0m         \u001b[0mfinal_df\u001b[0m\u001b[1;33m.\u001b[0m\u001b[0mloc\u001b[0m\u001b[1;33m[\u001b[0m\u001b[0mindex\u001b[0m\u001b[1;33m,\u001b[0m\u001b[1;34m\"subwayLine\"\u001b[0m\u001b[1;33m]\u001b[0m \u001b[1;33m=\u001b[0m \u001b[0mcheck_df\u001b[0m\u001b[1;33m[\u001b[0m\u001b[1;34m\"subwayLine\"\u001b[0m\u001b[1;33m]\u001b[0m\u001b[1;33m\u001b[0m\u001b[1;33m\u001b[0m\u001b[0m\n",
      "\u001b[1;32mc:\\Anaconda3\\lib\\site-packages\\pandas\\core\\indexing.py\u001b[0m in \u001b[0;36m__setitem__\u001b[1;34m(self, key, value)\u001b[0m\n\u001b[0;32m    714\u001b[0m \u001b[1;33m\u001b[0m\u001b[0m\n\u001b[0;32m    715\u001b[0m         \u001b[0miloc\u001b[0m \u001b[1;33m=\u001b[0m \u001b[0mself\u001b[0m \u001b[1;32mif\u001b[0m \u001b[0mself\u001b[0m\u001b[1;33m.\u001b[0m\u001b[0mname\u001b[0m \u001b[1;33m==\u001b[0m \u001b[1;34m\"iloc\"\u001b[0m \u001b[1;32melse\u001b[0m \u001b[0mself\u001b[0m\u001b[1;33m.\u001b[0m\u001b[0mobj\u001b[0m\u001b[1;33m.\u001b[0m\u001b[0miloc\u001b[0m\u001b[1;33m\u001b[0m\u001b[1;33m\u001b[0m\u001b[0m\n\u001b[1;32m--> 716\u001b[1;33m         \u001b[0miloc\u001b[0m\u001b[1;33m.\u001b[0m\u001b[0m_setitem_with_indexer\u001b[0m\u001b[1;33m(\u001b[0m\u001b[0mindexer\u001b[0m\u001b[1;33m,\u001b[0m \u001b[0mvalue\u001b[0m\u001b[1;33m,\u001b[0m \u001b[0mself\u001b[0m\u001b[1;33m.\u001b[0m\u001b[0mname\u001b[0m\u001b[1;33m)\u001b[0m\u001b[1;33m\u001b[0m\u001b[1;33m\u001b[0m\u001b[0m\n\u001b[0m\u001b[0;32m    717\u001b[0m \u001b[1;33m\u001b[0m\u001b[0m\n\u001b[0;32m    718\u001b[0m     \u001b[1;32mdef\u001b[0m \u001b[0m_validate_key\u001b[0m\u001b[1;33m(\u001b[0m\u001b[0mself\u001b[0m\u001b[1;33m,\u001b[0m \u001b[0mkey\u001b[0m\u001b[1;33m,\u001b[0m \u001b[0maxis\u001b[0m\u001b[1;33m:\u001b[0m \u001b[0mint\u001b[0m\u001b[1;33m)\u001b[0m\u001b[1;33m:\u001b[0m\u001b[1;33m\u001b[0m\u001b[1;33m\u001b[0m\u001b[0m\n",
      "\u001b[1;32mc:\\Anaconda3\\lib\\site-packages\\pandas\\core\\indexing.py\u001b[0m in \u001b[0;36m_setitem_with_indexer\u001b[1;34m(self, indexer, value, name)\u001b[0m\n\u001b[0;32m   1686\u001b[0m         \u001b[1;32mif\u001b[0m \u001b[0mtake_split_path\u001b[0m\u001b[1;33m:\u001b[0m\u001b[1;33m\u001b[0m\u001b[1;33m\u001b[0m\u001b[0m\n\u001b[0;32m   1687\u001b[0m             \u001b[1;31m# We have to operate column-wise\u001b[0m\u001b[1;33m\u001b[0m\u001b[1;33m\u001b[0m\u001b[1;33m\u001b[0m\u001b[0m\n\u001b[1;32m-> 1688\u001b[1;33m             \u001b[0mself\u001b[0m\u001b[1;33m.\u001b[0m\u001b[0m_setitem_with_indexer_split_path\u001b[0m\u001b[1;33m(\u001b[0m\u001b[0mindexer\u001b[0m\u001b[1;33m,\u001b[0m \u001b[0mvalue\u001b[0m\u001b[1;33m,\u001b[0m \u001b[0mname\u001b[0m\u001b[1;33m)\u001b[0m\u001b[1;33m\u001b[0m\u001b[1;33m\u001b[0m\u001b[0m\n\u001b[0m\u001b[0;32m   1689\u001b[0m         \u001b[1;32melse\u001b[0m\u001b[1;33m:\u001b[0m\u001b[1;33m\u001b[0m\u001b[1;33m\u001b[0m\u001b[0m\n\u001b[0;32m   1690\u001b[0m             \u001b[0mself\u001b[0m\u001b[1;33m.\u001b[0m\u001b[0m_setitem_single_block\u001b[0m\u001b[1;33m(\u001b[0m\u001b[0mindexer\u001b[0m\u001b[1;33m,\u001b[0m \u001b[0mvalue\u001b[0m\u001b[1;33m,\u001b[0m \u001b[0mname\u001b[0m\u001b[1;33m)\u001b[0m\u001b[1;33m\u001b[0m\u001b[1;33m\u001b[0m\u001b[0m\n",
      "\u001b[1;32mc:\\Anaconda3\\lib\\site-packages\\pandas\\core\\indexing.py\u001b[0m in \u001b[0;36m_setitem_with_indexer_split_path\u001b[1;34m(self, indexer, value, name)\u001b[0m\n\u001b[0;32m   1707\u001b[0m             \u001b[1;32mfrom\u001b[0m \u001b[0mpandas\u001b[0m \u001b[1;32mimport\u001b[0m \u001b[0mSeries\u001b[0m\u001b[1;33m\u001b[0m\u001b[1;33m\u001b[0m\u001b[0m\n\u001b[0;32m   1708\u001b[0m \u001b[1;33m\u001b[0m\u001b[0m\n\u001b[1;32m-> 1709\u001b[1;33m             \u001b[0mvalue\u001b[0m \u001b[1;33m=\u001b[0m \u001b[0mself\u001b[0m\u001b[1;33m.\u001b[0m\u001b[0m_align_series\u001b[0m\u001b[1;33m(\u001b[0m\u001b[0mindexer\u001b[0m\u001b[1;33m,\u001b[0m \u001b[0mSeries\u001b[0m\u001b[1;33m(\u001b[0m\u001b[0mvalue\u001b[0m\u001b[1;33m)\u001b[0m\u001b[1;33m)\u001b[0m\u001b[1;33m\u001b[0m\u001b[1;33m\u001b[0m\u001b[0m\n\u001b[0m\u001b[0;32m   1710\u001b[0m \u001b[1;33m\u001b[0m\u001b[0m\n\u001b[0;32m   1711\u001b[0m         \u001b[1;31m# Ensure we have something we can iterate over\u001b[0m\u001b[1;33m\u001b[0m\u001b[1;33m\u001b[0m\u001b[1;33m\u001b[0m\u001b[0m\n",
      "\u001b[1;32mc:\\Anaconda3\\lib\\site-packages\\pandas\\core\\indexing.py\u001b[0m in \u001b[0;36m_align_series\u001b[1;34m(self, indexer, ser, multiindex_indexer)\u001b[0m\n\u001b[0;32m   2139\u001b[0m             \u001b[1;32mreturn\u001b[0m \u001b[0mser\u001b[0m\u001b[1;33m.\u001b[0m\u001b[0mreindex\u001b[0m\u001b[1;33m(\u001b[0m\u001b[0max\u001b[0m\u001b[1;33m)\u001b[0m\u001b[1;33m.\u001b[0m\u001b[0m_values\u001b[0m\u001b[1;33m\u001b[0m\u001b[1;33m\u001b[0m\u001b[0m\n\u001b[0;32m   2140\u001b[0m \u001b[1;33m\u001b[0m\u001b[0m\n\u001b[1;32m-> 2141\u001b[1;33m         \u001b[1;32mraise\u001b[0m \u001b[0mValueError\u001b[0m\u001b[1;33m(\u001b[0m\u001b[1;34m\"Incompatible indexer with Series\"\u001b[0m\u001b[1;33m)\u001b[0m\u001b[1;33m\u001b[0m\u001b[1;33m\u001b[0m\u001b[0m\n\u001b[0m\u001b[0;32m   2142\u001b[0m \u001b[1;33m\u001b[0m\u001b[0m\n\u001b[0;32m   2143\u001b[0m     \u001b[1;32mdef\u001b[0m \u001b[0m_align_frame\u001b[0m\u001b[1;33m(\u001b[0m\u001b[0mself\u001b[0m\u001b[1;33m,\u001b[0m \u001b[0mindexer\u001b[0m\u001b[1;33m,\u001b[0m \u001b[0mdf\u001b[0m\u001b[1;33m:\u001b[0m \u001b[0mDataFrame\u001b[0m\u001b[1;33m)\u001b[0m\u001b[1;33m:\u001b[0m\u001b[1;33m\u001b[0m\u001b[1;33m\u001b[0m\u001b[0m\n",
      "\u001b[1;31mValueError\u001b[0m: Incompatible indexer with Series"
     ]
    }
   ],
   "source": [
    "for index, row in tqdm(final_df.iterrows(), total=final_df.shape[0]):\n",
    "    addr = final_df.loc[index,'doroJuso'] # 각 아파트의 도로명\n",
    "    print(addr)\n",
    "    check_df = df[df['doroJuso'].str.contains(addr)]\n",
    "    \n",
    "    if len(check_df.index)>0:\n",
    "        print(\"success\")\n",
    "        print(check_df.index)\n",
    "        print(len(check_df.index))\n",
    "        print(final_df.loc[index,\"welfareFacility\"])\n",
    "        print(type(check_df))\n",
    "        print(check_df)\n",
    "        final_df.loc[index,\"welfareFacility\"] = check_df[\"welfareFacility\"]\n",
    "        final_df.loc[index,\"kaptdWtimebus\"] = check_df[\"kaptdWtimebus\"]\n",
    "        final_df.loc[index,\"subwayLine\"] = check_df[\"subwayLine\"]\n",
    "        final_df.loc[index,\"subwayStation\"] = check_df[\"subwayStation\"]\n",
    "        final_df.loc[index,\"kaptdWtimesub\"] = check_df[\"kaptdWtimesub\"]\n",
    "        final_df.loc[index,\"convenientFacility\"] = check_df[\"convenientFacility\"]\n",
    "        final_df.loc[index,\"educationFacility\"] = check_df[\"educationFacility\"]\n",
    "        final_df.loc[index,\"managementOffice\"] = check_df[\"managementOffice\"]\n",
    "        final_df.loc[index,\"seniorCenter\"] = check_df[\"seniorCenter\"]\n",
    "        final_df.loc[index,\"childCare\"] = check_df[\"childCare\"]\n",
    "        final_df.loc[index,\"library\"] = check_df[\"library\"]\n",
    "        final_df.loc[index,\"communityFacilities\"] = check_df[\"communityFacilities\"]\n",
    "        final_df.loc[index,\"playGround\"] = check_df[\"playGround\"]\n",
    "        final_df.loc[index,\"restFacilities\"] = check_df[\"restFacilities\"]\n",
    "        final_df.loc[index,\"kindergarten\"] = check_df[\"kindergarten\"]\n",
    "        final_df.loc[index,\"communitySpace\"] = check_df[\"communitySpace\"]\n",
    "        final_df.loc[index,\"bicycleShed\"] = check_df[\"bicycleShed\"]\n",
    "        final_df.loc[index,\"publicOffice\"] = check_df[\"publicOffice\"]\n",
    "        final_df.loc[index,\"hospital\"] = check_df[\"hospital\"]\n",
    "        final_df.loc[index,\"departmentStore\"] = check_df[\"departmentStore\"]\n",
    "        final_df.loc[index,\"mall\"] = check_df[\"mall\"]\n",
    "        final_df.loc[index,\"park\"] = check_df[\"park\"]\n",
    "        final_df.loc[index,\"elementarySchool\"] = check_df[\"elementarySchool\"]\n",
    "        final_df.loc[index,\"middleSchool\"] = check_df[\"middleSchool\"]\n",
    "        final_df.loc[index,\"highSchool\"] = check_df[\"highSchool\"]\n",
    "        final_df.loc[index,\"university\"] = check_df[\"university\"]\n",
    "\n",
    "        if len(check_df['convenientFacility'].str.contains(\"파출소|지구대|치안센터\"))>0:\n",
    "            final_df.loc[index,'policeOffice'] = 1\n",
    "\n",
    "\n",
    "   "
   ]
  },
  {
   "cell_type": "code",
   "execution_count": null,
   "metadata": {},
   "outputs": [],
   "source": []
  }
 ],
 "metadata": {
  "kernelspec": {
   "display_name": "Python 3.8.12 ('base')",
   "language": "python",
   "name": "python3"
  },
  "language_info": {
   "codemirror_mode": {
    "name": "ipython",
    "version": 3
   },
   "file_extension": ".py",
   "mimetype": "text/x-python",
   "name": "python",
   "nbconvert_exporter": "python",
   "pygments_lexer": "ipython3",
   "version": "3.8.12"
  },
  "orig_nbformat": 4,
  "vscode": {
   "interpreter": {
    "hash": "e4cce46d6be9934fbd27f9ca0432556941ea5bdf741d4f4d64c6cd7f8dfa8fba"
   }
  }
 },
 "nbformat": 4,
 "nbformat_minor": 2
}
