{
 "cells": [
  {
   "cell_type": "code",
   "execution_count": 2,
   "metadata": {},
   "outputs": [],
   "source": [
    "import pandas as pd"
   ]
  },
  {
   "cell_type": "code",
   "execution_count": 14,
   "metadata": {},
   "outputs": [],
   "source": [
    "df = pd.read_excel(\"final.xlsx\",index_col=0)"
   ]
  },
  {
   "cell_type": "code",
   "execution_count": 28,
   "metadata": {},
   "outputs": [],
   "source": [
    "dfp = pd.read_excel(\"temp3.xlsx\", index_col=0)"
   ]
  },
  {
   "cell_type": "code",
   "execution_count": 31,
   "metadata": {},
   "outputs": [
    {
     "data": {
      "text/html": [
       "<div>\n",
       "<style scoped>\n",
       "    .dataframe tbody tr th:only-of-type {\n",
       "        vertical-align: middle;\n",
       "    }\n",
       "\n",
       "    .dataframe tbody tr th {\n",
       "        vertical-align: top;\n",
       "    }\n",
       "\n",
       "    .dataframe thead th {\n",
       "        text-align: right;\n",
       "    }\n",
       "</style>\n",
       "<table border=\"1\" class=\"dataframe\">\n",
       "  <thead>\n",
       "    <tr style=\"text-align: right;\">\n",
       "      <th></th>\n",
       "      <th>Unnamed: 0</th>\n",
       "      <th>bjdCode</th>\n",
       "      <th>kaptCode</th>\n",
       "      <th>kaptName</th>\n",
       "      <th>kaptAddr</th>\n",
       "      <th>doroJuso</th>\n",
       "      <th>welfareFacility</th>\n",
       "      <th>kaptdWtimebus</th>\n",
       "      <th>subwayLine</th>\n",
       "      <th>subwayStation</th>\n",
       "      <th>...</th>\n",
       "      <th>bicycleShed</th>\n",
       "      <th>publicOffice</th>\n",
       "      <th>hospital</th>\n",
       "      <th>departmentStore</th>\n",
       "      <th>mall</th>\n",
       "      <th>park</th>\n",
       "      <th>elementarySchool</th>\n",
       "      <th>middleSchool</th>\n",
       "      <th>highSchool</th>\n",
       "      <th>university</th>\n",
       "    </tr>\n",
       "  </thead>\n",
       "  <tbody>\n",
       "  </tbody>\n",
       "</table>\n",
       "<p>0 rows × 34 columns</p>\n",
       "</div>"
      ],
      "text/plain": [
       "Empty DataFrame\n",
       "Columns: [Unnamed: 0, bjdCode, kaptCode, kaptName, kaptAddr, doroJuso, welfareFacility, kaptdWtimebus, subwayLine, subwayStation, kaptdWtimesub, convenientFacility, educationFacility, lng, lat, managementOffice, seniorCenter, childCare, library, communityFacilities, playGround, restFacilities, kindergarten, communitySpace, bicycleShed, publicOffice, hospital, departmentStore, mall, park, elementarySchool, middleSchool, highSchool, university]\n",
       "Index: []\n",
       "\n",
       "[0 rows x 34 columns]"
      ]
     },
     "execution_count": 31,
     "metadata": {},
     "output_type": "execute_result"
    }
   ],
   "source": [
    "dfp"
   ]
  },
  {
   "cell_type": "code",
   "execution_count": 16,
   "metadata": {},
   "outputs": [],
   "source": [
    "df.reset_index(drop=True, inplace=True)"
   ]
  },
  {
   "cell_type": "code",
   "execution_count": 19,
   "metadata": {},
   "outputs": [],
   "source": [
    "df.to_excel(\"final2.xlsx\")"
   ]
  },
  {
   "cell_type": "code",
   "execution_count": 12,
   "metadata": {},
   "outputs": [],
   "source": [
    "\n",
    "df = df.dropna(how='all',subset=['selling_price','chartered_price','monthly_price','transaction_price']) # 넷 중 하나라도 없는 데이터는 drop 함 "
   ]
  },
  {
   "cell_type": "code",
   "execution_count": 29,
   "metadata": {},
   "outputs": [],
   "source": [
    "dfp = dfp[dfp['kaptAddr'].str.contains(\"청주시\")]"
   ]
  },
  {
   "cell_type": "code",
   "execution_count": 30,
   "metadata": {},
   "outputs": [
    {
     "data": {
      "text/html": [
       "<div>\n",
       "<style scoped>\n",
       "    .dataframe tbody tr th:only-of-type {\n",
       "        vertical-align: middle;\n",
       "    }\n",
       "\n",
       "    .dataframe tbody tr th {\n",
       "        vertical-align: top;\n",
       "    }\n",
       "\n",
       "    .dataframe thead th {\n",
       "        text-align: right;\n",
       "    }\n",
       "</style>\n",
       "<table border=\"1\" class=\"dataframe\">\n",
       "  <thead>\n",
       "    <tr style=\"text-align: right;\">\n",
       "      <th></th>\n",
       "      <th>Unnamed: 0</th>\n",
       "      <th>bjdCode</th>\n",
       "      <th>kaptCode</th>\n",
       "      <th>kaptName</th>\n",
       "      <th>kaptAddr</th>\n",
       "      <th>doroJuso</th>\n",
       "      <th>welfareFacility</th>\n",
       "      <th>kaptdWtimebus</th>\n",
       "      <th>subwayLine</th>\n",
       "      <th>subwayStation</th>\n",
       "      <th>...</th>\n",
       "      <th>bicycleShed</th>\n",
       "      <th>publicOffice</th>\n",
       "      <th>hospital</th>\n",
       "      <th>departmentStore</th>\n",
       "      <th>mall</th>\n",
       "      <th>park</th>\n",
       "      <th>elementarySchool</th>\n",
       "      <th>middleSchool</th>\n",
       "      <th>highSchool</th>\n",
       "      <th>university</th>\n",
       "    </tr>\n",
       "  </thead>\n",
       "  <tbody>\n",
       "  </tbody>\n",
       "</table>\n",
       "<p>0 rows × 34 columns</p>\n",
       "</div>"
      ],
      "text/plain": [
       "Empty DataFrame\n",
       "Columns: [Unnamed: 0, bjdCode, kaptCode, kaptName, kaptAddr, doroJuso, welfareFacility, kaptdWtimebus, subwayLine, subwayStation, kaptdWtimesub, convenientFacility, educationFacility, lng, lat, managementOffice, seniorCenter, childCare, library, communityFacilities, playGround, restFacilities, kindergarten, communitySpace, bicycleShed, publicOffice, hospital, departmentStore, mall, park, elementarySchool, middleSchool, highSchool, university]\n",
       "Index: []\n",
       "\n",
       "[0 rows x 34 columns]"
      ]
     },
     "execution_count": 30,
     "metadata": {},
     "output_type": "execute_result"
    }
   ],
   "source": [
    "dfp"
   ]
  },
  {
   "cell_type": "code",
   "execution_count": 27,
   "metadata": {},
   "outputs": [
    {
     "data": {
      "text/html": [
       "<div>\n",
       "<style scoped>\n",
       "    .dataframe tbody tr th:only-of-type {\n",
       "        vertical-align: middle;\n",
       "    }\n",
       "\n",
       "    .dataframe tbody tr th {\n",
       "        vertical-align: top;\n",
       "    }\n",
       "\n",
       "    .dataframe thead th {\n",
       "        text-align: right;\n",
       "    }\n",
       "</style>\n",
       "<table border=\"1\" class=\"dataframe\">\n",
       "  <thead>\n",
       "    <tr style=\"text-align: right;\">\n",
       "      <th></th>\n",
       "      <th>bjdCode</th>\n",
       "      <th>kaptCode</th>\n",
       "      <th>kaptName</th>\n",
       "      <th>kaptAddr</th>\n",
       "      <th>doroJuso</th>\n",
       "      <th>welfareFacility</th>\n",
       "      <th>kaptdWtimebus</th>\n",
       "      <th>subwayLine</th>\n",
       "      <th>subwayStation</th>\n",
       "      <th>kaptdWtimesub</th>\n",
       "      <th>...</th>\n",
       "      <th>mall</th>\n",
       "      <th>park</th>\n",
       "      <th>elementarySchool</th>\n",
       "      <th>middleSchool</th>\n",
       "      <th>highSchool</th>\n",
       "      <th>university</th>\n",
       "      <th>selling_price</th>\n",
       "      <th>chartered_price</th>\n",
       "      <th>monthly_price</th>\n",
       "      <th>transaction_price</th>\n",
       "    </tr>\n",
       "  </thead>\n",
       "  <tbody>\n",
       "  </tbody>\n",
       "</table>\n",
       "<p>0 rows × 38 columns</p>\n",
       "</div>"
      ],
      "text/plain": [
       "Empty DataFrame\n",
       "Columns: [bjdCode, kaptCode, kaptName, kaptAddr, doroJuso, welfareFacility, kaptdWtimebus, subwayLine, subwayStation, kaptdWtimesub, convenientFacility, educationFacility, lng, lat, managementOffice, seniorCenter, childCare, library, communityFacilities, playGround, restFacilities, kindergarten, communitySpace, bicycleShed, publicOffice, policeOffice, hospital, departmentStore, mall, park, elementarySchool, middleSchool, highSchool, university, selling_price, chartered_price, monthly_price, transaction_price]\n",
       "Index: []\n",
       "\n",
       "[0 rows x 38 columns]"
      ]
     },
     "execution_count": 27,
     "metadata": {},
     "output_type": "execute_result"
    }
   ],
   "source": [
    "dfp[dfp['mall'] == 1]"
   ]
  },
  {
   "cell_type": "code",
   "execution_count": 11,
   "metadata": {},
   "outputs": [
    {
     "data": {
      "text/html": [
       "<div>\n",
       "<style scoped>\n",
       "    .dataframe tbody tr th:only-of-type {\n",
       "        vertical-align: middle;\n",
       "    }\n",
       "\n",
       "    .dataframe tbody tr th {\n",
       "        vertical-align: top;\n",
       "    }\n",
       "\n",
       "    .dataframe thead th {\n",
       "        text-align: right;\n",
       "    }\n",
       "</style>\n",
       "<table border=\"1\" class=\"dataframe\">\n",
       "  <thead>\n",
       "    <tr style=\"text-align: right;\">\n",
       "      <th></th>\n",
       "      <th>bjdCode</th>\n",
       "      <th>kaptCode</th>\n",
       "      <th>kaptName</th>\n",
       "      <th>kaptAddr</th>\n",
       "      <th>doroJuso</th>\n",
       "      <th>welfareFacility</th>\n",
       "      <th>kaptdWtimebus</th>\n",
       "      <th>subwayLine</th>\n",
       "      <th>subwayStation</th>\n",
       "      <th>kaptdWtimesub</th>\n",
       "      <th>...</th>\n",
       "      <th>mall</th>\n",
       "      <th>park</th>\n",
       "      <th>elementarySchool</th>\n",
       "      <th>middleSchool</th>\n",
       "      <th>highSchool</th>\n",
       "      <th>university</th>\n",
       "      <th>selling_price</th>\n",
       "      <th>chartered_price</th>\n",
       "      <th>monthly_price</th>\n",
       "      <th>transaction_price</th>\n",
       "    </tr>\n",
       "  </thead>\n",
       "  <tbody>\n",
       "  </tbody>\n",
       "</table>\n",
       "<p>0 rows × 38 columns</p>\n",
       "</div>"
      ],
      "text/plain": [
       "Empty DataFrame\n",
       "Columns: [bjdCode, kaptCode, kaptName, kaptAddr, doroJuso, welfareFacility, kaptdWtimebus, subwayLine, subwayStation, kaptdWtimesub, convenientFacility, educationFacility, lng, lat, managementOffice, seniorCenter, childCare, library, communityFacilities, playGround, restFacilities, kindergarten, communitySpace, bicycleShed, publicOffice, policeOffice, hospital, departmentStore, mall, park, elementarySchool, middleSchool, highSchool, university, selling_price, chartered_price, monthly_price, transaction_price]\n",
       "Index: []\n",
       "\n",
       "[0 rows x 38 columns]"
      ]
     },
     "execution_count": 11,
     "metadata": {},
     "output_type": "execute_result"
    }
   ],
   "source": [
    "df[df['kaptAddr'].str.contains(\"서울특별시 종로구\")]"
   ]
  },
  {
   "cell_type": "code",
   "execution_count": null,
   "metadata": {},
   "outputs": [],
   "source": []
  },
  {
   "cell_type": "code",
   "execution_count": 7,
   "metadata": {},
   "outputs": [],
   "source": [
    "df.to_excel(\"price_done1.xlsx\")"
   ]
  },
  {
   "cell_type": "code",
   "execution_count": 9,
   "metadata": {},
   "outputs": [],
   "source": [
    "df = df.dropna(how='all',subset=['selling_price','chartered_price','monthly_price','transaction_price']) # 넷 중 하나라도 없는 데이터는 drop 함 "
   ]
  },
  {
   "cell_type": "code",
   "execution_count": null,
   "metadata": {},
   "outputs": [],
   "source": []
  },
  {
   "cell_type": "code",
   "execution_count": 12,
   "metadata": {},
   "outputs": [],
   "source": [
    "pdf = df[df['policeOffice'] == 1]"
   ]
  },
  {
   "cell_type": "code",
   "execution_count": 14,
   "metadata": {},
   "outputs": [
    {
     "data": {
      "text/plain": [
       "23058    1\n",
       "23061    1\n",
       "23063    1\n",
       "23064    1\n",
       "23066    1\n",
       "        ..\n",
       "29146    1\n",
       "29232    1\n",
       "29237    1\n",
       "29238    1\n",
       "29240    1\n",
       "Name: policeOffice, Length: 685, dtype: int64"
      ]
     },
     "execution_count": 14,
     "metadata": {},
     "output_type": "execute_result"
    }
   ],
   "source": [
    "pdf['policeOffice']"
   ]
  },
  {
   "cell_type": "code",
   "execution_count": null,
   "metadata": {},
   "outputs": [],
   "source": []
  }
 ],
 "metadata": {
  "kernelspec": {
   "display_name": "Python 3.8.12 ('base')",
   "language": "python",
   "name": "python3"
  },
  "language_info": {
   "codemirror_mode": {
    "name": "ipython",
    "version": 3
   },
   "file_extension": ".py",
   "mimetype": "text/x-python",
   "name": "python",
   "nbconvert_exporter": "python",
   "pygments_lexer": "ipython3",
   "version": "3.8.12"
  },
  "orig_nbformat": 4,
  "vscode": {
   "interpreter": {
    "hash": "e4cce46d6be9934fbd27f9ca0432556941ea5bdf741d4f4d64c6cd7f8dfa8fba"
   }
  }
 },
 "nbformat": 4,
 "nbformat_minor": 2
}
